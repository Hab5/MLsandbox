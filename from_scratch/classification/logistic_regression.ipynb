{
 "cells": [
  {
   "cell_type": "code",
   "execution_count": 1,
   "metadata": {},
   "outputs": [],
   "source": [
    "from sklearn.model_selection import train_test_split\n",
    "from sklearn import datasets\n",
    "import matplotlib.pyplot as plt\n",
    "import numpy as np\n",
    "\n",
    "np.random.seed(42)"
   ]
  },
  {
   "cell_type": "markdown",
   "metadata": {},
   "source": [
    "We'll use the iris dataset, which consist of 3 species of iris flower, however for practicality sake, we'll group 2 species, so we end up with a binary classification problem."
   ]
  },
  {
   "cell_type": "code",
   "execution_count": 2,
   "metadata": {},
   "outputs": [],
   "source": [
    "iris = datasets.load_iris()\n",
    "X = iris.data[:, :2]\n",
    "y = (iris.target != 0) * 1"
   ]
  },
  {
   "cell_type": "code",
   "execution_count": 3,
   "metadata": {},
   "outputs": [
    {
     "data": {
      "image/png": "[encoded data removed]",
      "text/plain": [
       "<Figure size 432x288 with 1 Axes>"
      ]
     },
     "metadata": {
      "needs_background": "light"
     },
     "output_type": "display_data"
    }
   ],
   "source": [
    "plt.scatter(X[y == 0][:, 0], X[y == 0][:, 1], color='b', label='0')\n",
    "plt.scatter(X[y == 1][:, 0], X[y == 1][:, 1], color='r', label='1')\n",
    "plt.legend();"
   ]
  },
  {
   "cell_type": "markdown",
   "metadata": {},
   "source": [
    "We'll use the logistic function :\n",
    "$\\LARGE\\sigma=\\frac {1} {1+e^{-X }}$"
   ]
  },
  {
   "cell_type": "code",
   "execution_count": 4,
   "metadata": {},
   "outputs": [],
   "source": [
    "def sigmoid(X):\n",
    "    return 1 / (1 + np.exp(-X))\n",
    "\n",
    "def gradient_descent(X, y, n_iterations=300000, learning_rate=0.1):\n",
    "    theta = np.zeros(X.shape[1])\n",
    "    for iteration in range(n_iterations):\n",
    "        z = X @ theta\n",
    "        h = sigmoid(z)\n",
    "        gradient = X.T @ (h - y) / y.size\n",
    "        theta -= learning_rate * gradient\n",
    "\n",
    "        \n",
    "    return theta"
   ]
  },
  {
   "cell_type": "code",
   "execution_count": 5,
   "metadata": {},
   "outputs": [],
   "source": [
    "X_b = np.c_[np.ones((X.shape[0],X.shape[1]-1)), X] # Adding Bias"
   ]
  },
  {
   "cell_type": "code",
   "execution_count": 6,
   "metadata": {},
   "outputs": [
    {
     "name": "stdout",
     "output_type": "stream",
     "text": [
      "[-25.89066442  12.523156   -13.40150447]\n"
     ]
    }
   ],
   "source": [
    "theta = gradient_descent(X_b, y)\n",
    "print(theta)"
   ]
  },
  {
   "cell_type": "markdown",
   "metadata": {},
   "source": [
    "We'll then make our predictions, and since our activation function returns a value between 0 and 1, we'll use 0.5 as  a threshold to determine if the prediction is 0 or 1."
   ]
  },
  {
   "cell_type": "code",
   "execution_count": 7,
   "metadata": {},
   "outputs": [
    {
     "name": "stdout",
     "output_type": "stream",
     "text": [
      "Actual Value: 1 Predicted Value: 1\n",
      "Actual Value: 1 Predicted Value: 1\n",
      "Actual Value: 0 Predicted Value: 0\n",
      "Actual Value: 1 Predicted Value: 1\n",
      "Actual Value: 1 Predicted Value: 1\n",
      "Actual Value: 0 Predicted Value: 0\n",
      "Actual Value: 1 Predicted Value: 1\n",
      "Actual Value: 1 Predicted Value: 1\n",
      "Actual Value: 1 Predicted Value: 1\n",
      "Actual Value: 1 Predicted Value: 1\n"
     ]
    }
   ],
   "source": [
    "predict = sigmoid(X_b @ theta) # Making predictions. Simply added sigmoid over our dot product.\n",
    "\n",
    "for i in range(10):\n",
    "    index = np.random.randint(0,y.shape[0])\n",
    "    print(f\"Actual Value: {y[index]}\", \"Predicted Value:\", ('0' if predict[index] < 0.5 else '1'))"
   ]
  },
  {
   "cell_type": "markdown",
   "metadata": {},
   "source": [
    "Here we go. Of course, these predictions are on seen data, but it would work the same on unseen data."
   ]
  }
 ],
 "metadata": {
  "kernelspec": {
   "display_name": "Python 3",
   "language": "python",
   "name": "python3"
  },
  "language_info": {
   "codemirror_mode": {
    "name": "ipython",
    "version": 3
   },
   "file_extension": ".py",
   "mimetype": "text/x-python",
   "name": "python",
   "nbconvert_exporter": "python",
   "pygments_lexer": "ipython3",
   "version": "3.7.3"
  }
 },
 "nbformat": 4,
 "nbformat_minor": 2
}

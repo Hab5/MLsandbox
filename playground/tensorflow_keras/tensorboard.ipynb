{
 "cells": [
  {
   "cell_type": "code",
   "execution_count": 1,
   "metadata": {},
   "outputs": [],
   "source": [
    "import tensorflow as tf\n",
    "from tensorflow import keras\n",
    "import numpy as np\n",
    "import matplotlib.pyplot as plt\n",
    "import os"
   ]
  },
  {
   "cell_type": "code",
   "execution_count": 2,
   "metadata": {},
   "outputs": [],
   "source": [
    "fashion_mnist = keras.datasets.fashion_mnist\n",
    "(X_train_full, y_train_full), (X_test, y_test) = fashion_mnist.load_data()\n",
    "X_valid, X_train = X_train_full[:5000] / 255.0, X_train_full[5000:] / 255.0\n",
    "y_valid, y_train = y_train_full[:5000], y_train_full[5000:]"
   ]
  },
  {
   "cell_type": "code",
   "execution_count": 3,
   "metadata": {},
   "outputs": [],
   "source": [
    "model = keras.models.Sequential([\n",
    "    keras.layers.Flatten(input_shape=[28, 28]),\n",
    "    keras.layers.Dense(300, activation='relu'),\n",
    "    keras.layers.Dense(100, activation='relu'),\n",
    "    keras.layers.Dense(10, activation='softmax')\n",
    "])\n",
    "\n",
    "model.compile(loss='sparse_categorical_crossentropy',\n",
    "              optimizer='sgd',\n",
    "              metrics=['accuracy'])"
   ]
  },
  {
   "cell_type": "code",
   "execution_count": 4,
   "metadata": {},
   "outputs": [],
   "source": [
    "root_logdir = os.path.join(os.curdir, \"my_logs\")\n",
    "\n",
    "def get_run_logdir():\n",
    "    import time\n",
    "    run_id = time.strftime(\"run_%Y_%m_%d-%H_%M_%S\")\n",
    "    return os.path.join(root_logdir, run_id)"
   ]
  },
  {
   "cell_type": "code",
   "execution_count": 5,
   "metadata": {},
   "outputs": [],
   "source": [
    "run_logdir = get_run_logdir()"
   ]
  },
  {
   "cell_type": "code",
   "execution_count": 6,
   "metadata": {},
   "outputs": [
    {
     "name": "stdout",
     "output_type": "stream",
     "text": [
      "Train on 55000 samples, validate on 5000 samples\n",
      "Epoch 1/30\n",
      "55000/55000 [==============================] - 5s 96us/sample - loss: 0.7349 - accuracy: 0.7591 - val_loss: 0.5504 - val_accuracy: 0.8114\n",
      "Epoch 2/30\n",
      "55000/55000 [==============================] - 6s 105us/sample - loss: 0.4954 - accuracy: 0.8282 - val_loss: 0.4408 - val_accuracy: 0.8530\n",
      "Epoch 3/30\n",
      "55000/55000 [==============================] - 4s 82us/sample - loss: 0.4499 - accuracy: 0.8425 - val_loss: 0.4370 - val_accuracy: 0.8496\n",
      "Epoch 4/30\n",
      "55000/55000 [==============================] - 6s 106us/sample - loss: 0.4239 - accuracy: 0.8522 - val_loss: 0.3973 - val_accuracy: 0.8636\n",
      "Epoch 5/30\n",
      "55000/55000 [==============================] - 5s 82us/sample - loss: 0.4007 - accuracy: 0.8585 - val_loss: 0.3985 - val_accuracy: 0.8636\n",
      "Epoch 6/30\n",
      "55000/55000 [==============================] - 5s 84us/sample - loss: 0.3844 - accuracy: 0.8646 - val_loss: 0.3899 - val_accuracy: 0.8664\n",
      "Epoch 7/30\n",
      "55000/55000 [==============================] - 4s 79us/sample - loss: 0.3712 - accuracy: 0.8689 - val_loss: 0.3673 - val_accuracy: 0.8734\n",
      "Epoch 8/30\n",
      "55000/55000 [==============================] - 5s 83us/sample - loss: 0.3584 - accuracy: 0.8747 - val_loss: 0.3766 - val_accuracy: 0.8684\n",
      "Epoch 9/30\n",
      "55000/55000 [==============================] - 4s 76us/sample - loss: 0.3467 - accuracy: 0.8768 - val_loss: 0.3498 - val_accuracy: 0.8800\n",
      "Epoch 10/30\n",
      "55000/55000 [==============================] - 4s 81us/sample - loss: 0.3381 - accuracy: 0.8797 - val_loss: 0.3510 - val_accuracy: 0.8738\n",
      "Epoch 11/30\n",
      "55000/55000 [==============================] - 4s 78us/sample - loss: 0.3288 - accuracy: 0.8822 - val_loss: 0.3324 - val_accuracy: 0.8864\n",
      "Epoch 12/30\n",
      "55000/55000 [==============================] - 5s 82us/sample - loss: 0.3197 - accuracy: 0.8876 - val_loss: 0.3384 - val_accuracy: 0.8806\n",
      "Epoch 13/30\n",
      "55000/55000 [==============================] - 6s 114us/sample - loss: 0.3123 - accuracy: 0.8883 - val_loss: 0.3252 - val_accuracy: 0.8838\n",
      "Epoch 14/30\n",
      "55000/55000 [==============================] - 5s 84us/sample - loss: 0.3056 - accuracy: 0.8905 - val_loss: 0.3316 - val_accuracy: 0.8828\n",
      "Epoch 15/30\n",
      "55000/55000 [==============================] - 5s 83us/sample - loss: 0.2987 - accuracy: 0.8926 - val_loss: 0.3203 - val_accuracy: 0.8868\n",
      "Epoch 16/30\n",
      "55000/55000 [==============================] - 5s 82us/sample - loss: 0.2920 - accuracy: 0.8953 - val_loss: 0.3280 - val_accuracy: 0.8830\n",
      "Epoch 17/30\n",
      "55000/55000 [==============================] - 6s 115us/sample - loss: 0.2857 - accuracy: 0.8970 - val_loss: 0.3177 - val_accuracy: 0.8852\n",
      "Epoch 18/30\n",
      "55000/55000 [==============================] - 6s 105us/sample - loss: 0.2810 - accuracy: 0.8991 - val_loss: 0.3093 - val_accuracy: 0.8880\n",
      "Epoch 19/30\n",
      "55000/55000 [==============================] - 5s 96us/sample - loss: 0.2745 - accuracy: 0.9014 - val_loss: 0.3251 - val_accuracy: 0.8834\n",
      "Epoch 20/30\n",
      "55000/55000 [==============================] - 6s 105us/sample - loss: 0.2696 - accuracy: 0.9037 - val_loss: 0.3059 - val_accuracy: 0.8904\n",
      "Epoch 21/30\n",
      "55000/55000 [==============================] - 7s 131us/sample - loss: 0.2637 - accuracy: 0.9049 - val_loss: 0.3014 - val_accuracy: 0.8910\n",
      "Epoch 22/30\n",
      "55000/55000 [==============================] - 7s 124us/sample - loss: 0.2611 - accuracy: 0.9053 - val_loss: 0.3113 - val_accuracy: 0.8872\n",
      "Epoch 23/30\n",
      "55000/55000 [==============================] - 7s 129us/sample - loss: 0.2549 - accuracy: 0.9081 - val_loss: 0.2974 - val_accuracy: 0.8898\n",
      "Epoch 24/30\n",
      "55000/55000 [==============================] - 8s 153us/sample - loss: 0.2503 - accuracy: 0.9104 - val_loss: 0.3018 - val_accuracy: 0.8928\n",
      "Epoch 25/30\n",
      "55000/55000 [==============================] - 5s 97us/sample - loss: 0.2457 - accuracy: 0.9119 - val_loss: 0.3127 - val_accuracy: 0.8842\n",
      "Epoch 26/30\n",
      "55000/55000 [==============================] - 5s 97us/sample - loss: 0.2422 - accuracy: 0.9123 - val_loss: 0.3392 - val_accuracy: 0.8778\n",
      "Epoch 27/30\n",
      "55000/55000 [==============================] - 4s 81us/sample - loss: 0.2373 - accuracy: 0.9151 - val_loss: 0.2950 - val_accuracy: 0.8936\n",
      "Epoch 28/30\n",
      "55000/55000 [==============================] - 4s 81us/sample - loss: 0.2332 - accuracy: 0.9158 - val_loss: 0.3128 - val_accuracy: 0.8876\n",
      "Epoch 29/30\n",
      "55000/55000 [==============================] - 4s 81us/sample - loss: 0.2295 - accuracy: 0.9178 - val_loss: 0.2929 - val_accuracy: 0.8980\n",
      "Epoch 30/30\n",
      "55000/55000 [==============================] - 5s 98us/sample - loss: 0.2249 - accuracy: 0.9195 - val_loss: 0.3118 - val_accuracy: 0.8904\n"
     ]
    }
   ],
   "source": [
    "tensorboard_cb = keras.callbacks.TensorBoard(run_logdir)\n",
    "history = model.fit(X_train, y_train, epochs=30, validation_data = (X_valid, y_valid), callbacks=[tensorboard_cb])"
   ]
  },
  {
   "cell_type": "code",
   "execution_count": null,
   "metadata": {},
   "outputs": [],
   "source": []
  }
 ],
 "metadata": {
  "kernelspec": {
   "display_name": "Python 3",
   "language": "python",
   "name": "python3"
  },
  "language_info": {
   "codemirror_mode": {
    "name": "ipython",
    "version": 3
   },
   "file_extension": ".py",
   "mimetype": "text/x-python",
   "name": "python",
   "nbconvert_exporter": "python",
   "pygments_lexer": "ipython3",
   "version": "3.7.3"
  }
 },
 "nbformat": 4,
 "nbformat_minor": 2
}

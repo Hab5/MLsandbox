{
 "cells": [
  {
   "cell_type": "code",
   "execution_count": 10,
   "metadata": {},
   "outputs": [],
   "source": [
    "import tensorflow as tf\n",
    "from tensorflow import keras\n",
    "import numpy as np\n",
    "import matplotlib.pyplot as plt\n",
    "import os"
   ]
  },
  {
   "cell_type": "code",
   "execution_count": 11,
   "metadata": {},
   "outputs": [],
   "source": [
    "fashion_mnist = keras.datasets.fashion_mnist\n",
    "(X_train_full, y_train_full), (X_test, y_test) = fashion_mnist.load_data()\n",
    "X_valid, X_train = X_train_full[:5000] / 255.0, X_train_full[5000:] / 255.0\n",
    "y_valid, y_train = y_train_full[:5000], y_train_full[5000:]"
   ]
  },
  {
   "cell_type": "code",
   "execution_count": 12,
   "metadata": {},
   "outputs": [],
   "source": [
    "model = keras.models.Sequential([\n",
    "    keras.layers.Flatten(input_shape=[28, 28]),\n",
    "    keras.layers.Dense(300, activation='relu'),\n",
    "    keras.layers.Dense(100, activation='relu'),\n",
    "    keras.layers.Dense(10, activation='softmax')\n",
    "])\n",
    "\n",
    "model.compile(loss='sparse_categorical_crossentropy',\n",
    "              optimizer='sgd',\n",
    "              metrics=['accuracy'])"
   ]
  },
  {
   "cell_type": "code",
   "execution_count": 13,
   "metadata": {},
   "outputs": [],
   "source": [
    "root_logdir = os.path.join(os.curdir, \"my_logs\")\n",
    "\n",
    "def get_run_logdir():\n",
    "    import time\n",
    "    run_id = time.strftime(\"run_%Y_%m_%d-%H_%M_%S\")\n",
    "    return os.path.join(root_logdir, run_id)"
   ]
  },
  {
   "cell_type": "code",
   "execution_count": 14,
   "metadata": {},
   "outputs": [],
   "source": [
    "run_logdir = get_run_logdir()"
   ]
  },
  {
   "cell_type": "code",
   "execution_count": 16,
   "metadata": {},
   "outputs": [
    {
     "name": "stdout",
     "output_type": "stream",
     "text": [
      "Train on 55000 samples, validate on 5000 samples\n",
      "Epoch 1/30\n",
      "55000/55000 [==============================] - 5s 87us/sample - loss: 0.2241 - accuracy: 0.9197 - val_loss: 0.2955 - val_accuracy: 0.8952\n",
      "Epoch 2/30\n",
      "55000/55000 [==============================] - 6s 100us/sample - loss: 0.2207 - accuracy: 0.9201 - val_loss: 0.2949 - val_accuracy: 0.8940\n",
      "Epoch 3/30\n",
      "55000/55000 [==============================] - 5s 93us/sample - loss: 0.2171 - accuracy: 0.9217 - val_loss: 0.3149 - val_accuracy: 0.8830\n",
      "Epoch 4/30\n",
      "55000/55000 [==============================] - 10s 183us/sample - loss: 0.2142 - accuracy: 0.9234 - val_loss: 0.3011 - val_accuracy: 0.8880\n",
      "Epoch 5/30\n",
      "55000/55000 [==============================] - 6s 108us/sample - loss: 0.2107 - accuracy: 0.9240 - val_loss: 0.2900 - val_accuracy: 0.8964\n",
      "Epoch 6/30\n",
      "55000/55000 [==============================] - 6s 114us/sample - loss: 0.2073 - accuracy: 0.9260 - val_loss: 0.3106 - val_accuracy: 0.8904\n",
      "Epoch 7/30\n",
      "55000/55000 [==============================] - 7s 123us/sample - loss: 0.2027 - accuracy: 0.9269 - val_loss: 0.2929 - val_accuracy: 0.8938\n",
      "Epoch 8/30\n",
      "55000/55000 [==============================] - 4s 78us/sample - loss: 0.2017 - accuracy: 0.9273 - val_loss: 0.3027 - val_accuracy: 0.8946\n",
      "Epoch 9/30\n",
      "55000/55000 [==============================] - 6s 105us/sample - loss: 0.1979 - accuracy: 0.9299 - val_loss: 0.3021 - val_accuracy: 0.8960\n",
      "Epoch 10/30\n",
      "55000/55000 [==============================] - 5s 93us/sample - loss: 0.1947 - accuracy: 0.9315 - val_loss: 0.3019 - val_accuracy: 0.8946\n",
      "Epoch 11/30\n",
      "55000/55000 [==============================] - 7s 123us/sample - loss: 0.1926 - accuracy: 0.9306 - val_loss: 0.2995 - val_accuracy: 0.8916\n",
      "Epoch 12/30\n",
      "55000/55000 [==============================] - 6s 117us/sample - loss: 0.1895 - accuracy: 0.9329 - val_loss: 0.2864 - val_accuracy: 0.8986\n",
      "Epoch 13/30\n",
      "55000/55000 [==============================] - 6s 100us/sample - loss: 0.1863 - accuracy: 0.9328 - val_loss: 0.2910 - val_accuracy: 0.8976\n",
      "Epoch 14/30\n",
      "55000/55000 [==============================] - 6s 113us/sample - loss: 0.1824 - accuracy: 0.9344 - val_loss: 0.2988 - val_accuracy: 0.8958\n",
      "Epoch 15/30\n",
      "55000/55000 [==============================] - 5s 97us/sample - loss: 0.1800 - accuracy: 0.9353 - val_loss: 0.2923 - val_accuracy: 0.8954\n",
      "Epoch 16/30\n",
      "55000/55000 [==============================] - 5s 95us/sample - loss: 0.1775 - accuracy: 0.9368 - val_loss: 0.2859 - val_accuracy: 0.8982\n",
      "Epoch 17/30\n",
      "55000/55000 [==============================] - 5s 95us/sample - loss: 0.1743 - accuracy: 0.9375 - val_loss: 0.3063 - val_accuracy: 0.8888\n",
      "Epoch 18/30\n",
      "55000/55000 [==============================] - 5s 95us/sample - loss: 0.1714 - accuracy: 0.9380 - val_loss: 0.2948 - val_accuracy: 0.8950\n",
      "Epoch 19/30\n",
      "55000/55000 [==============================] - 5s 94us/sample - loss: 0.1689 - accuracy: 0.9391 - val_loss: 0.2986 - val_accuracy: 0.8974\n",
      "Epoch 20/30\n",
      "55000/55000 [==============================] - 5s 95us/sample - loss: 0.1661 - accuracy: 0.9414 - val_loss: 0.3065 - val_accuracy: 0.8920\n",
      "Epoch 21/30\n",
      "55000/55000 [==============================] - 5s 96us/sample - loss: 0.1634 - accuracy: 0.9416 - val_loss: 0.2941 - val_accuracy: 0.8992\n",
      "Epoch 22/30\n",
      "55000/55000 [==============================] - 5s 97us/sample - loss: 0.1609 - accuracy: 0.9432 - val_loss: 0.2999 - val_accuracy: 0.8940\n",
      "Epoch 23/30\n",
      "55000/55000 [==============================] - 6s 112us/sample - loss: 0.1582 - accuracy: 0.9436 - val_loss: 0.2871 - val_accuracy: 0.9006\n",
      "Epoch 24/30\n",
      "55000/55000 [==============================] - 6s 102us/sample - loss: 0.1562 - accuracy: 0.9447 - val_loss: 0.2952 - val_accuracy: 0.8974\n",
      "Epoch 25/30\n",
      "55000/55000 [==============================] - 6s 101us/sample - loss: 0.1538 - accuracy: 0.9454 - val_loss: 0.3122 - val_accuracy: 0.8946\n",
      "Epoch 26/30\n",
      "55000/55000 [==============================] - 6s 104us/sample - loss: 0.1508 - accuracy: 0.9464 - val_loss: 0.2964 - val_accuracy: 0.8988\n",
      "Epoch 27/30\n",
      "55000/55000 [==============================] - 6s 103us/sample - loss: 0.1489 - accuracy: 0.9467 - val_loss: 0.2911 - val_accuracy: 0.8968\n",
      "Epoch 28/30\n",
      "55000/55000 [==============================] - 6s 116us/sample - loss: 0.1466 - accuracy: 0.9478 - val_loss: 0.2922 - val_accuracy: 0.9004\n",
      "Epoch 29/30\n",
      "55000/55000 [==============================] - 6s 104us/sample - loss: 0.1439 - accuracy: 0.9480 - val_loss: 0.3615 - val_accuracy: 0.8808\n",
      "Epoch 30/30\n",
      "55000/55000 [==============================] - 6s 104us/sample - loss: 0.1421 - accuracy: 0.9499 - val_loss: 0.3105 - val_accuracy: 0.8956\n"
     ]
    }
   ],
   "source": [
    "tensorboard_cb = keras.callbacks.TensorBoard(run_logdir)\n",
    "history = model.fit(X_train, y_train, epochs=30, validation_data = (X_valid, y_valid), callbacks=[tensorboard_cb])"
   ]
  },
  {
   "cell_type": "code",
   "execution_count": null,
   "metadata": {},
   "outputs": [],
   "source": []
  }
 ],
 "metadata": {
  "kernelspec": {
   "display_name": "Python 3",
   "language": "python",
   "name": "python3"
  },
  "language_info": {
   "codemirror_mode": {
    "name": "ipython",
    "version": 3
   },
   "file_extension": ".py",
   "mimetype": "text/x-python",
   "name": "python",
   "nbconvert_exporter": "python",
   "pygments_lexer": "ipython3",
   "version": "3.7.3"
  }
 },
 "nbformat": 4,
 "nbformat_minor": 2
}

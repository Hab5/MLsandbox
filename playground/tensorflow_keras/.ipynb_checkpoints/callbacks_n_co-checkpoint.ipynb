{
 "cells": [
  {
   "cell_type": "code",
   "execution_count": 1,
   "metadata": {},
   "outputs": [],
   "source": [
    "from sklearn.datasets import fetch_california_housing\n",
    "from sklearn.model_selection import train_test_split\n",
    "from sklearn.preprocessing import StandardScaler\n",
    "\n",
    "import tensorflow\n",
    "from tensorflow import keras"
   ]
  },
  {
   "cell_type": "code",
   "execution_count": 2,
   "metadata": {},
   "outputs": [],
   "source": [
    "housing = fetch_california_housing()\n",
    "\n",
    "X_train_full, X_test, y_train_full, y_test = train_test_split(housing.data, housing.target)\n",
    "X_train, X_valid, y_train, y_valid = train_test_split(X_train_full, y_train_full)"
   ]
  },
  {
   "cell_type": "code",
   "execution_count": 3,
   "metadata": {},
   "outputs": [],
   "source": [
    "scaler = StandardScaler()\n",
    "X_train_scaled = scaler.fit_transform(X_train)\n",
    "X_valid_scaled = scaler.transform(X_valid)\n",
    "X_test_scaled = scaler.transform(X_test)"
   ]
  },
  {
   "cell_type": "code",
   "execution_count": 4,
   "metadata": {},
   "outputs": [],
   "source": [
    "model = keras.models.Sequential([\n",
    "    keras.layers.Dense(30, activation='relu', input_shape=X_train.shape[1:]),\n",
    "    keras.layers.Dense(1)\n",
    "])\n",
    "\n",
    "class TestCallBack(keras.callbacks.Callback):\n",
    "    def on_epoch_begin(self, epoch, logs):\n",
    "        print(\"\\nCALLBACK HERE\\n\")\n",
    "\n",
    "checkpoint = keras.callbacks.ModelCheckpoint(\"./models/callbacks_n_co.h5\")"
   ]
  },
  {
   "cell_type": "code",
   "execution_count": 5,
   "metadata": {},
   "outputs": [
    {
     "name": "stdout",
     "output_type": "stream",
     "text": [
      "Train on 11610 samples, validate on 3870 samples\n",
      "\n",
      "CALLBACK HERE\n",
      "\n",
      "Epoch 1/20\n",
      "11610/11610 [==============================] - 1s 98us/sample - loss: 0.9087 - val_loss: 1.0715\n",
      "\n",
      "CALLBACK HERE\n",
      "\n",
      "Epoch 2/20\n",
      "11610/11610 [==============================] - 1s 52us/sample - loss: 0.4919 - val_loss: 0.4841\n",
      "\n",
      "CALLBACK HERE\n",
      "\n",
      "Epoch 3/20\n",
      "11610/11610 [==============================] - 1s 56us/sample - loss: 0.4392 - val_loss: 0.4534\n",
      "\n",
      "CALLBACK HERE\n",
      "\n",
      "Epoch 4/20\n",
      "11610/11610 [==============================] - 1s 53us/sample - loss: 0.4251 - val_loss: 0.4475\n",
      "\n",
      "CALLBACK HERE\n",
      "\n",
      "Epoch 5/20\n",
      "11610/11610 [==============================] - 1s 54us/sample - loss: 0.4134 - val_loss: 0.4522\n",
      "\n",
      "CALLBACK HERE\n",
      "\n",
      "Epoch 6/20\n",
      "11610/11610 [==============================] - 1s 56us/sample - loss: 0.4055 - val_loss: 0.4455\n",
      "\n",
      "CALLBACK HERE\n",
      "\n",
      "Epoch 7/20\n",
      "11610/11610 [==============================] - 1s 57us/sample - loss: 0.3988 - val_loss: 0.4165\n",
      "\n",
      "CALLBACK HERE\n",
      "\n",
      "Epoch 8/20\n",
      "11610/11610 [==============================] - 1s 55us/sample - loss: 0.3928 - val_loss: 0.4246\n",
      "\n",
      "CALLBACK HERE\n",
      "\n",
      "Epoch 9/20\n",
      "11610/11610 [==============================] - 1s 57us/sample - loss: 0.3870 - val_loss: 0.4188\n",
      "\n",
      "CALLBACK HERE\n",
      "\n",
      "Epoch 10/20\n",
      "11610/11610 [==============================] - 1s 57us/sample - loss: 0.3833 - val_loss: 0.4183\n",
      "\n",
      "CALLBACK HERE\n",
      "\n",
      "Epoch 11/20\n",
      "11610/11610 [==============================] - 1s 56us/sample - loss: 0.3792 - val_loss: 0.4068\n",
      "\n",
      "CALLBACK HERE\n",
      "\n",
      "Epoch 12/20\n",
      "11610/11610 [==============================] - 1s 57us/sample - loss: 0.3767 - val_loss: 0.4107\n",
      "\n",
      "CALLBACK HERE\n",
      "\n",
      "Epoch 13/20\n",
      "11610/11610 [==============================] - 1s 57us/sample - loss: 0.3751 - val_loss: 0.3969\n",
      "\n",
      "CALLBACK HERE\n",
      "\n",
      "Epoch 14/20\n",
      "11610/11610 [==============================] - 1s 55us/sample - loss: 0.3716 - val_loss: 0.4002\n",
      "\n",
      "CALLBACK HERE\n",
      "\n",
      "Epoch 15/20\n",
      "11610/11610 [==============================] - 1s 55us/sample - loss: 0.3682 - val_loss: 0.3966\n",
      "\n",
      "CALLBACK HERE\n",
      "\n",
      "Epoch 16/20\n",
      "11610/11610 [==============================] - 1s 57us/sample - loss: 0.3668 - val_loss: 0.3934\n",
      "\n",
      "CALLBACK HERE\n",
      "\n",
      "Epoch 17/20\n",
      "11610/11610 [==============================] - 1s 57us/sample - loss: 0.3660 - val_loss: 0.3934\n",
      "\n",
      "CALLBACK HERE\n",
      "\n",
      "Epoch 18/20\n",
      "11610/11610 [==============================] - 1s 56us/sample - loss: 0.3629 - val_loss: 0.3932\n",
      "\n",
      "CALLBACK HERE\n",
      "\n",
      "Epoch 19/20\n",
      "11610/11610 [==============================] - 1s 57us/sample - loss: 0.3613 - val_loss: 0.3907\n",
      "\n",
      "CALLBACK HERE\n",
      "\n",
      "Epoch 20/20\n",
      "11610/11610 [==============================] - 1s 60us/sample - loss: 0.3607 - val_loss: 0.4030\n"
     ]
    }
   ],
   "source": [
    "model.compile(loss='mean_squared_error', optimizer='sgd')\n",
    "history = model.fit(X_train_scaled, y_train, epochs=20,\n",
    "                    validation_data=(X_valid_scaled, y_valid),\n",
    "                    callbacks=[checkpoint, TestCallBack()])"
   ]
  },
  {
   "cell_type": "code",
   "execution_count": 6,
   "metadata": {},
   "outputs": [],
   "source": [
    "#model.save(\"./models/callbacks_n_co.h5\")\n",
    "best_model = keras.models.load_model(\"./models/callbacks_n_co.h5\")"
   ]
  },
  {
   "cell_type": "code",
   "execution_count": 7,
   "metadata": {},
   "outputs": [],
   "source": [
    "weights, biases = best_model.layers[1].get_weights()"
   ]
  },
  {
   "cell_type": "code",
   "execution_count": 8,
   "metadata": {},
   "outputs": [
    {
     "name": "stdout",
     "output_type": "stream",
     "text": [
      "[[ 0.06195104]\n",
      " [ 0.01450815]\n",
      " [-0.19152191]\n",
      " [ 0.17381595]\n",
      " [ 0.06735371]]\n"
     ]
    }
   ],
   "source": [
    "print(weights[:5])"
   ]
  },
  {
   "cell_type": "code",
   "execution_count": 9,
   "metadata": {},
   "outputs": [
    {
     "name": "stdout",
     "output_type": "stream",
     "text": [
      "[1.0524522]\n"
     ]
    }
   ],
   "source": [
    "print(biases)"
   ]
  }
 ],
 "metadata": {
  "kernelspec": {
   "display_name": "Python 3",
   "language": "python",
   "name": "python3"
  },
  "language_info": {
   "codemirror_mode": {
    "name": "ipython",
    "version": 3
   },
   "file_extension": ".py",
   "mimetype": "text/x-python",
   "name": "python",
   "nbconvert_exporter": "python",
   "pygments_lexer": "ipython3",
   "version": "3.7.3"
  }
 },
 "nbformat": 4,
 "nbformat_minor": 2
}

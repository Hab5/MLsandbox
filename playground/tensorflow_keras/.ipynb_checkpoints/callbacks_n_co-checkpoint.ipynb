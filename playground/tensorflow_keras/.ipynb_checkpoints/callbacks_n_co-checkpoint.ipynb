{
 "cells": [
  {
   "cell_type": "code",
   "execution_count": 1,
   "metadata": {},
   "outputs": [],
   "source": [
    "from sklearn.datasets import fetch_california_housing\n",
    "from sklearn.model_selection import train_test_split\n",
    "from sklearn.preprocessing import StandardScaler\n",
    "\n",
    "import tensorflow\n",
    "from tensorflow import keras"
   ]
  },
  {
   "cell_type": "code",
   "execution_count": 2,
   "metadata": {},
   "outputs": [],
   "source": [
    "housing = fetch_california_housing()\n",
    "\n",
    "X_train_full, X_test, y_train_full, y_test = train_test_split(housing.data, housing.target)\n",
    "X_train, X_valid, y_train, y_valid = train_test_split(X_train_full, y_train_full)\n",
    "\n",
    "scaler = StandardScaler()\n",
    "X_train_scaled = scaler.fit_transform(X_train)\n",
    "X_valid_scaled = scaler.fit_transform(X_valid)\n",
    "X_test_scaled = scaler.fit_transform(X_test)"
   ]
  },
  {
   "cell_type": "code",
   "execution_count": 3,
   "metadata": {},
   "outputs": [],
   "source": [
    "model = keras.models.Sequential([\n",
    "    keras.layers.Dense(30, activation='relu', input_shape=X_train.shape[1:]),\n",
    "    keras.layers.Dense(1)\n",
    "])\n",
    "\n",
    "class TestCallBack(keras.callbacks.Callback):\n",
    "    def on_epoch_begin(self, epoch, logs):\n",
    "        print(\"\\nCALLBACK HERE\\n\")\n",
    "\n",
    "checkpoint = keras.callbacks.ModelCheckpoint(\"./models/callbacks_n_co.h5\")"
   ]
  },
  {
   "cell_type": "code",
   "execution_count": 4,
   "metadata": {},
   "outputs": [
    {
     "name": "stdout",
     "output_type": "stream",
     "text": [
      "Train on 11610 samples, validate on 3870 samples\n",
      "\n",
      "CALLBACK HERE\n",
      "\n",
      "Epoch 1/20\n",
      "11610/11610 [==============================] - 1s 125us/sample - loss: 0.9078 - val_loss: 1.5732\n",
      "\n",
      "CALLBACK HERE\n",
      "\n",
      "Epoch 2/20\n",
      "11610/11610 [==============================] - 1s 60us/sample - loss: 1.1134 - val_loss: 3.2613\n",
      "\n",
      "CALLBACK HERE\n",
      "\n",
      "Epoch 3/20\n",
      "11610/11610 [==============================] - 1s 61us/sample - loss: 0.9112 - val_loss: 3.5265\n",
      "\n",
      "CALLBACK HERE\n",
      "\n",
      "Epoch 4/20\n",
      "11610/11610 [==============================] - 1s 69us/sample - loss: 3.4415 - val_loss: 0.5114\n",
      "\n",
      "CALLBACK HERE\n",
      "\n",
      "Epoch 5/20\n",
      "11610/11610 [==============================] - 1s 67us/sample - loss: 0.4130 - val_loss: 0.6135\n",
      "\n",
      "CALLBACK HERE\n",
      "\n",
      "Epoch 6/20\n",
      "11610/11610 [==============================] - 1s 81us/sample - loss: 0.5101 - val_loss: 0.4613\n",
      "\n",
      "CALLBACK HERE\n",
      "\n",
      "Epoch 7/20\n",
      "11610/11610 [==============================] - 1s 64us/sample - loss: 0.4078 - val_loss: 0.4659\n",
      "\n",
      "CALLBACK HERE\n",
      "\n",
      "Epoch 8/20\n",
      "11610/11610 [==============================] - 1s 73us/sample - loss: 0.3958 - val_loss: 0.4534\n",
      "\n",
      "CALLBACK HERE\n",
      "\n",
      "Epoch 9/20\n",
      "11610/11610 [==============================] - 1s 96us/sample - loss: 0.3930 - val_loss: 0.4511\n",
      "\n",
      "CALLBACK HERE\n",
      "\n",
      "Epoch 10/20\n",
      "11610/11610 [==============================] - 1s 58us/sample - loss: 0.3880 - val_loss: 0.4271\n",
      "\n",
      "CALLBACK HERE\n",
      "\n",
      "Epoch 11/20\n",
      "11610/11610 [==============================] - 1s 53us/sample - loss: 0.3859 - val_loss: 0.4429\n",
      "\n",
      "CALLBACK HERE\n",
      "\n",
      "Epoch 12/20\n",
      "11610/11610 [==============================] - 1s 55us/sample - loss: 0.3802 - val_loss: 0.4574\n",
      "\n",
      "CALLBACK HERE\n",
      "\n",
      "Epoch 13/20\n",
      "11610/11610 [==============================] - 1s 52us/sample - loss: 0.3778 - val_loss: 0.4515\n",
      "\n",
      "CALLBACK HERE\n",
      "\n",
      "Epoch 14/20\n",
      "11610/11610 [==============================] - 1s 54us/sample - loss: 0.3837 - val_loss: 0.4154\n",
      "\n",
      "CALLBACK HERE\n",
      "\n",
      "Epoch 15/20\n",
      "11610/11610 [==============================] - 1s 49us/sample - loss: 0.3751 - val_loss: 0.4443\n",
      "\n",
      "CALLBACK HERE\n",
      "\n",
      "Epoch 16/20\n",
      "11610/11610 [==============================] - 1s 54us/sample - loss: 0.3740 - val_loss: 0.4314\n",
      "\n",
      "CALLBACK HERE\n",
      "\n",
      "Epoch 17/20\n",
      "11610/11610 [==============================] - 1s 51us/sample - loss: 0.3731 - val_loss: 0.4336\n",
      "\n",
      "CALLBACK HERE\n",
      "\n",
      "Epoch 18/20\n",
      "11610/11610 [==============================] - 1s 50us/sample - loss: 0.3693 - val_loss: 0.4133\n",
      "\n",
      "CALLBACK HERE\n",
      "\n",
      "Epoch 19/20\n",
      "11610/11610 [==============================] - 1s 59us/sample - loss: 0.3708 - val_loss: 0.4171\n",
      "\n",
      "CALLBACK HERE\n",
      "\n",
      "Epoch 20/20\n",
      "11610/11610 [==============================] - 1s 77us/sample - loss: 0.3691 - val_loss: 0.4303\n"
     ]
    }
   ],
   "source": [
    "model.compile(loss='mean_squared_error', optimizer='sgd')\n",
    "history = model.fit(X_train_scaled, y_train, epochs=20,\n",
    "                    validation_data=(X_valid_scaled, y_valid),\n",
    "                    callbacks=[checkpoint, TestCallBack()])"
   ]
  },
  {
   "cell_type": "code",
   "execution_count": 5,
   "metadata": {},
   "outputs": [],
   "source": [
    "#model.save(\"./models/callbacks_n_co.h5\")\n",
    "best_model = keras.models.load_model(\"./models/callbacks_n_co.h5\")"
   ]
  },
  {
   "cell_type": "code",
   "execution_count": 6,
   "metadata": {},
   "outputs": [],
   "source": [
    "weights, biases = best_model.layers[1].get_weights()"
   ]
  },
  {
   "cell_type": "code",
   "execution_count": 7,
   "metadata": {},
   "outputs": [
    {
     "name": "stdout",
     "output_type": "stream",
     "text": [
      "[[ 0.02828783]\n",
      " [ 0.23979194]\n",
      " [ 0.6239168 ]\n",
      " [-0.20291108]\n",
      " [ 0.39798826]]\n"
     ]
    }
   ],
   "source": [
    "print(weights[:5])"
   ]
  },
  {
   "cell_type": "code",
   "execution_count": 8,
   "metadata": {},
   "outputs": [
    {
     "name": "stdout",
     "output_type": "stream",
     "text": [
      "[1.2854973]\n"
     ]
    }
   ],
   "source": [
    "print(biases)"
   ]
  }
 ],
 "metadata": {
  "kernelspec": {
   "display_name": "Python 3",
   "language": "python",
   "name": "python3"
  },
  "language_info": {
   "codemirror_mode": {
    "name": "ipython",
    "version": 3
   },
   "file_extension": ".py",
   "mimetype": "text/x-python",
   "name": "python",
   "nbconvert_exporter": "python",
   "pygments_lexer": "ipython3",
   "version": "3.7.3"
  }
 },
 "nbformat": 4,
 "nbformat_minor": 2
}
